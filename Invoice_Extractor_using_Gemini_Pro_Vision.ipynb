{
  "cells": [
    {
      "cell_type": "markdown",
      "metadata": {
        "id": "3Jb1xAe3Wlnb"
      },
      "source": [
        "## Import necessary libraries"
      ]
    },
    {
      "cell_type": "code",
      "execution_count": null,
      "metadata": {
        "id": "vBZ2zukxi6bQ",
        "colab": {
          "base_uri": "https://localhost:8080/"
        },
        "outputId": "77cbca96-81ea-4ace-a2a7-cf88174096ec"
      },
      "outputs": [
        {
          "output_type": "stream",
          "name": "stdout",
          "text": [
            "\u001b[K\u001b[?25h\u001b[37;40mnpm\u001b[0m \u001b[0m\u001b[30;43mWARN\u001b[0m \u001b[0m\u001b[35msaveError\u001b[0m ENOENT: no such file or directory, open '/content/package.json'\n",
            "\u001b[0m\u001b[37;40mnpm\u001b[0m \u001b[0m\u001b[30;43mWARN\u001b[0m \u001b[0m\u001b[35menoent\u001b[0m ENOENT: no such file or directory, open '/content/package.json'\n",
            "\u001b[0m\u001b[37;40mnpm\u001b[0m \u001b[0m\u001b[30;43mWARN\u001b[0m\u001b[35m\u001b[0m content No description\n",
            "\u001b[0m\u001b[37;40mnpm\u001b[0m \u001b[0m\u001b[30;43mWARN\u001b[0m\u001b[35m\u001b[0m content No repository field.\n",
            "\u001b[0m\u001b[37;40mnpm\u001b[0m \u001b[0m\u001b[30;43mWARN\u001b[0m\u001b[35m\u001b[0m content No README data\n",
            "\u001b[0m\u001b[37;40mnpm\u001b[0m \u001b[0m\u001b[30;43mWARN\u001b[0m\u001b[35m\u001b[0m content No license field.\n",
            "\u001b[0m\n",
            "\u001b[K\u001b[?25h+ localtunnel@2.0.2\n",
            "updated 1 package and audited 36 packages in 0.472s\n",
            "\n",
            "3 packages are looking for funding\n",
            "  run `npm fund` for details\n",
            "\n",
            "found 2 \u001b[93mmoderate\u001b[0m severity vulnerabilities\n",
            "  run `npm audit fix` to fix them, or `npm audit` for details\n",
            "\n",
            "\u001b[33m\u001b[39m\n",
            "\u001b[33m   ╭────────────────────────────────────────────────────────────────╮\u001b[39m\n",
            "   \u001b[33m│\u001b[39m                                                                \u001b[33m│\u001b[39m\n",
            "   \u001b[33m│\u001b[39m      New \u001b[31mmajor\u001b[39m version of npm available! \u001b[31m6.14.8\u001b[39m → \u001b[32m10.3.0\u001b[39m       \u001b[33m│\u001b[39m\n",
            "   \u001b[33m│\u001b[39m   \u001b[33mChangelog:\u001b[39m \u001b[36mhttps://github.com/npm/cli/releases/tag/v10.3.0\u001b[39m   \u001b[33m│\u001b[39m\n",
            "   \u001b[33m│\u001b[39m               Run \u001b[32mnpm install -g npm\u001b[39m to update!                \u001b[33m│\u001b[39m\n",
            "   \u001b[33m│\u001b[39m                                                                \u001b[33m│\u001b[39m\n",
            "\u001b[33m   ╰────────────────────────────────────────────────────────────────╯\u001b[39m\n",
            "\u001b[33m\u001b[39m\n"
          ]
        }
      ],
      "source": [
        "!pip install streamlit -q\n",
        "!npm install localtunnel -q"
      ]
    },
    {
      "cell_type": "code",
      "execution_count": null,
      "metadata": {
        "id": "aiI8f3DIWA0C",
        "colab": {
          "base_uri": "https://localhost:8080/"
        },
        "outputId": "ca008d74-1f86-4753-bbaa-d0877f063b9d"
      },
      "outputs": [
        {
          "output_type": "stream",
          "name": "stdout",
          "text": [
            "Overwriting app.py\n"
          ]
        }
      ],
      "source": [
        "%%writefile app.py\n",
        "\n",
        "#load_dotenv()  # take environment variables from .env.\n",
        "\n",
        "import streamlit as st\n",
        "import os\n",
        "import pathlib\n",
        "import textwrap\n",
        "from PIL import Image\n",
        "\n",
        "import google.generativeai as genai\n",
        "\n",
        "# Configure API Key\n",
        "#os.getenv(\"GOOGLE_API_KEY\")\n",
        "genai.configure(api_key='')\n",
        "\n",
        "# LLM Modeling and Prompt Engineering\n",
        "\n",
        "## Function to load OpenAI model and get respones\n",
        "\n",
        "def get_gemini_response(input,image,prompt):\n",
        "    model = genai.GenerativeModel('gemini-pro-vision')\n",
        "    response = model.generate_content([input,image[0],prompt])\n",
        "    return response.text\n",
        "\n",
        "\n",
        "def input_image_setup(uploaded_file):\n",
        "    # Check if a file has been uploaded\n",
        "    if uploaded_file is not None:\n",
        "        # Read the file into bytes\n",
        "        bytes_data = uploaded_file.getvalue()\n",
        "\n",
        "        image_parts = [\n",
        "            {\n",
        "                \"mime_type\": uploaded_file.type,  # Get the mime type of the uploaded file\n",
        "                \"data\": bytes_data\n",
        "            }\n",
        "        ]\n",
        "        return image_parts\n",
        "    else:\n",
        "        raise FileNotFoundError(\"No file uploaded\")\n",
        "\n",
        "# Streamlit App\n",
        "\n",
        "##initialize our streamlit app\n",
        "\n",
        "st.set_page_config(page_title=\"Gemini Image Demo\")\n",
        "\n",
        "st.header(\"Invoice Extractor\")\n",
        "input=st.text_input(\"Input Prompt: \",key=\"input\")\n",
        "uploaded_file = st.file_uploader(\"Choose an image...\", type=[\"jpg\", \"jpeg\", \"png\"])\n",
        "image=\"\"\n",
        "if uploaded_file is not None:\n",
        "    image = Image.open(uploaded_file)\n",
        "    st.image(image, caption=\"Uploaded Image.\", use_column_width=True)\n",
        "\n",
        "\n",
        "submit=st.button(\"Tell me about the file\")\n",
        "\n",
        "input_prompt = \"\"\"\n",
        "               You are an expert in understanding invoices and prescriptions.\n",
        "               You will receive these input invoices and prescriptions as images or files.\n",
        "               You will have to answer questions based on the uploaded document.\n",
        "               If you can not find an answer to the user prompt based on the uploaded document, do not create your own answers.\n",
        "               \"\"\"\n",
        "\n",
        "## If ask button is clicked\n",
        "\n",
        "if submit:\n",
        "    image_data = input_image_setup(uploaded_file)\n",
        "    response=get_gemini_response(input_prompt,image_data,input)\n",
        "    st.subheader(\"The Response is\")\n",
        "    st.write(response)"
      ]
    },
    {
      "cell_type": "code",
      "source": [
        "!curl https://loca.lt/mytunnelpassword"
      ],
      "metadata": {
        "colab": {
          "base_uri": "https://localhost:8080/"
        },
        "id": "9ifCnsrn6RWs",
        "outputId": "3021f72a-f24e-42fc-eb69-04e437a2bf9e"
      },
      "execution_count": null,
      "outputs": [
        {
          "output_type": "stream",
          "name": "stdout",
          "text": [
            "35.229.52.173"
          ]
        }
      ]
    },
    {
      "cell_type": "code",
      "execution_count": null,
      "metadata": {
        "colab": {
          "base_uri": "https://localhost:8080/"
        },
        "id": "J4KMNqfylI3U",
        "outputId": "16a7d838-c65f-469c-b7a0-af64d2a63998"
      },
      "outputs": [
        {
          "output_type": "stream",
          "name": "stdout",
          "text": [
            "\u001b[K\u001b[?25hnpx: installed 22 in 2.545s\n",
            "your url is: https://seven-areas-burn.loca.lt\n",
            "^C\n"
          ]
        }
      ],
      "source": [
        "!streamlit run app.py &>/content/logs.txt & npx localtunnel --port 8501"
      ]
    }
  ],
  "metadata": {
    "colab": {
      "provenance": []
    },
    "kernelspec": {
      "display_name": "Python 3",
      "name": "python3"
    },
    "language_info": {
      "name": "python"
    }
  },
  "nbformat": 4,
  "nbformat_minor": 0
}